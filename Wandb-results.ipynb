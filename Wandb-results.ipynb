{
 "cells": [
  {
   "cell_type": "code",
   "execution_count": 1,
   "metadata": {},
   "outputs": [],
   "source": [
    "import wandb"
   ]
  },
  {
   "cell_type": "code",
   "execution_count": 2,
   "metadata": {},
   "outputs": [],
   "source": [
    "api = wandb.Api()"
   ]
  },
  {
   "cell_type": "code",
   "execution_count": 3,
   "metadata": {},
   "outputs": [],
   "source": [
    "all_runs = api.runs(\"betairylia/sim\")\n",
    "no20news = api.sweep(\"betairylia/sim/e0x2xj0j\")\n",
    "ok20news = api.sweep(\"betairylia/sim/oshwz2f0\")"
   ]
  },
  {
   "cell_type": "code",
   "execution_count": 4,
   "metadata": {
    "scrolled": true
   },
   "outputs": [
    {
     "name": "stdout",
     "output_type": "stream",
     "text": [
      "{'mnist': 0, 'svhn': 1, 'stl': 2, 'cifar10': 3, 'cifar100': 4, 'omniglot': 5, 'reuters10k': 6, '20news': 7}\n"
     ]
    }
   ],
   "source": [
    "import json\n",
    "\n",
    "def IsFinished(run):\n",
    "    \n",
    "    if run is None:\n",
    "        return False\n",
    "    \n",
    "    if run.summary is None or run.state is None:\n",
    "        return False\n",
    "    \n",
    "    if 'epoch' not in run.summary:\n",
    "        return False\n",
    "    \n",
    "    return run.summary['epoch'] == 49 and run.state == 'finished'\n",
    "\n",
    "datasets = ['mnist', 'svhn', 'stl', 'cifar10', 'cifar100', 'omniglot', 'reuters10k', '20news']\n",
    "dataset_id = {v: i for i, v in enumerate(datasets)}\n",
    "\n",
    "print(dataset_id)\n",
    "\n",
    "# Append no20news\n",
    "\n",
    "def PickFromSweep(all_runs, sweep_id):\n",
    "    \n",
    "    result = {}\n",
    "    \n",
    "    i = 0\n",
    "    for run in all_runs:\n",
    "        if not IsFinished(run):\n",
    "            print(run.summary)\n",
    "            print(\"State: %s\" % run.state)\n",
    "            continue\n",
    "        if run.sweep is not None and run.sweep.name == sweep_id:\n",
    "    #         print(\"=*=*=*=*=*=*=*=*=*=\")\n",
    "    #         print(run.config)\n",
    "    #         print(run.summary)\n",
    "\n",
    "    #         print(run.config['dataset'])\n",
    "    #         print(dataset_id[run.config['dataset']])\n",
    "\n",
    "    #         print(run.config['mu'])\n",
    "    #         print(run.config['eta1'])\n",
    "    #         print(run.config['gamma'])\n",
    "\n",
    "            obj = {\n",
    "                'mu': run.config['mu'],\n",
    "                'gamma': run.config['gamma'],\n",
    "                'eta1': run.config['eta1'],\n",
    "                'tau_pos': run.config['tau_pos'],\n",
    "                'K0': run.config['K0'],\n",
    "                'dataset': dataset_id[run.config['dataset']]\n",
    "#                 'accuracy': run.summary['accuracy']\n",
    "            }\n",
    "        \n",
    "            print(json.dumps(obj))\n",
    "            \n",
    "            if json.dumps(obj) not in result:\n",
    "                result[json.dumps(obj)] = 0\n",
    "            \n",
    "            result[json.dumps(obj)] += run.summary['accuracy'] / 3\n",
    "        \n",
    "            i += 1\n",
    "    \n",
    "    print(i)\n",
    "        \n",
    "    return result"
   ]
  },
  {
   "cell_type": "code",
   "execution_count": 5,
   "metadata": {},
   "outputs": [
    {
     "name": "stdout",
     "output_type": "stream",
     "text": [
      "{'epoch': 9, 'accuracy': 0.9813428571428572, '_timestamp': 1625105433, 'tau': 0.05, 'loss': -0.4902847111225128, '_step': 132, '_runtime': 196}\n",
      "State: running\n",
      "{'epoch': 9, 'tau': 0.05, 'loss': -0.48600146174430847, '_step': 132, '_runtime': 196, 'accuracy': 0.941, '_timestamp': 1625105433}\n",
      "State: running\n",
      "{'epoch': 9, 'tau': 0.05, 'loss': -0.4731714725494385, '_step': 131, '_runtime': 195, 'accuracy': 0.9015571428571428, '_timestamp': 1625105432}\n",
      "State: running\n"
     ]
    },
    {
     "ename": "KeyError",
     "evalue": "'eta1'",
     "output_type": "error",
     "traceback": [
      "\u001b[0;31m---------------------------------------------------------------------------\u001b[0m",
      "\u001b[0;31mKeyError\u001b[0m                                  Traceback (most recent call last)",
      "\u001b[0;32m<ipython-input-5-2f488be16110>\u001b[0m in \u001b[0;36m<module>\u001b[0;34m\u001b[0m\n\u001b[1;32m      4\u001b[0m \u001b[0;34m\u001b[0m\u001b[0m\n\u001b[1;32m      5\u001b[0m \u001b[0;31m# Tau Trainable\u001b[0m\u001b[0;34m\u001b[0m\u001b[0;34m\u001b[0m\u001b[0;34m\u001b[0m\u001b[0m\n\u001b[0;32m----> 6\u001b[0;31m \u001b[0mvalid_entries\u001b[0m \u001b[0;34m=\u001b[0m \u001b[0mPickFromSweep\u001b[0m\u001b[0;34m(\u001b[0m\u001b[0mall_runs\u001b[0m\u001b[0;34m,\u001b[0m \u001b[0;34m'q76m68ot'\u001b[0m\u001b[0;34m)\u001b[0m\u001b[0;34m\u001b[0m\u001b[0;34m\u001b[0m\u001b[0m\n\u001b[0m",
      "\u001b[0;32m<ipython-input-4-6629eebce185>\u001b[0m in \u001b[0;36mPickFromSweep\u001b[0;34m(all_runs, sweep_id)\u001b[0m\n\u001b[1;32m     46\u001b[0m                 \u001b[0;34m'mu'\u001b[0m\u001b[0;34m:\u001b[0m \u001b[0mrun\u001b[0m\u001b[0;34m.\u001b[0m\u001b[0mconfig\u001b[0m\u001b[0;34m[\u001b[0m\u001b[0;34m'mu'\u001b[0m\u001b[0;34m]\u001b[0m\u001b[0;34m,\u001b[0m\u001b[0;34m\u001b[0m\u001b[0;34m\u001b[0m\u001b[0m\n\u001b[1;32m     47\u001b[0m                 \u001b[0;34m'gamma'\u001b[0m\u001b[0;34m:\u001b[0m \u001b[0mrun\u001b[0m\u001b[0;34m.\u001b[0m\u001b[0mconfig\u001b[0m\u001b[0;34m[\u001b[0m\u001b[0;34m'gamma'\u001b[0m\u001b[0;34m]\u001b[0m\u001b[0;34m,\u001b[0m\u001b[0;34m\u001b[0m\u001b[0;34m\u001b[0m\u001b[0m\n\u001b[0;32m---> 48\u001b[0;31m                 \u001b[0;34m'eta1'\u001b[0m\u001b[0;34m:\u001b[0m \u001b[0mrun\u001b[0m\u001b[0;34m.\u001b[0m\u001b[0mconfig\u001b[0m\u001b[0;34m[\u001b[0m\u001b[0;34m'eta1'\u001b[0m\u001b[0;34m]\u001b[0m\u001b[0;34m,\u001b[0m\u001b[0;34m\u001b[0m\u001b[0;34m\u001b[0m\u001b[0m\n\u001b[0m\u001b[1;32m     49\u001b[0m                 \u001b[0;34m'tau_pos'\u001b[0m\u001b[0;34m:\u001b[0m \u001b[0mrun\u001b[0m\u001b[0;34m.\u001b[0m\u001b[0mconfig\u001b[0m\u001b[0;34m[\u001b[0m\u001b[0;34m'tau_pos'\u001b[0m\u001b[0;34m]\u001b[0m\u001b[0;34m,\u001b[0m\u001b[0;34m\u001b[0m\u001b[0;34m\u001b[0m\u001b[0m\n\u001b[1;32m     50\u001b[0m                 \u001b[0;34m'K0'\u001b[0m\u001b[0;34m:\u001b[0m \u001b[0mrun\u001b[0m\u001b[0;34m.\u001b[0m\u001b[0mconfig\u001b[0m\u001b[0;34m[\u001b[0m\u001b[0;34m'K0'\u001b[0m\u001b[0;34m]\u001b[0m\u001b[0;34m,\u001b[0m\u001b[0;34m\u001b[0m\u001b[0;34m\u001b[0m\u001b[0m\n",
      "\u001b[0;31mKeyError\u001b[0m: 'eta1'"
     ]
    }
   ],
   "source": [
    "valid_entries = PickFromSweep(all_runs, 'e0x2xj0j')\n",
    "valid_entries.update(PickFromSweep(all_runs, 'oshwz2f0'))"
   ]
  },
  {
   "cell_type": "code",
   "execution_count": null,
   "metadata": {},
   "outputs": [],
   "source": [
    "valid_entries"
   ]
  },
  {
   "cell_type": "code",
   "execution_count": null,
   "metadata": {
    "scrolled": true
   },
   "outputs": [],
   "source": [
    "def unpack(d):\n",
    "    result = []\n",
    "    for k in d:\n",
    "        obj = json.loads(k)\n",
    "        obj['accuracy'] = d[k]\n",
    "        result.append(obj)\n",
    "    \n",
    "    return result\n",
    "        \n",
    "valid_entries_list = unpack(valid_entries)\n",
    "valid_entries_list"
   ]
  },
  {
   "cell_type": "code",
   "execution_count": null,
   "metadata": {},
   "outputs": [],
   "source": [
    "max_acc_Di = [0 for i in range(len(datasets))]\n",
    "for entry in valid_entries_list:\n",
    "    max_acc_Di[entry['dataset']] = max(max_acc_Di[entry['dataset']], entry['accuracy'])\n",
    "\n",
    "max_acc_Di"
   ]
  },
  {
   "cell_type": "code",
   "execution_count": null,
   "metadata": {},
   "outputs": [],
   "source": [
    "import numpy as np\n",
    "\n",
    "results = []\n",
    "\n",
    "for mu in ['0.1', '0.2']:\n",
    "    for gamma in ['0.45', '0.55']:\n",
    "        for eta1 in ['5.0', '6.0']:\n",
    "            \n",
    "            max_56_Di = [0 for i in range(len(datasets))]\n",
    "            \n",
    "            for entry in valid_entries_list:\n",
    "                \n",
    "                if entry['mu'] != mu or entry['gamma'] != gamma or entry['eta1'] != eta1:\n",
    "                    continue\n",
    "                \n",
    "                max_56_Di[entry['dataset']] = max(\n",
    "                    max_56_Di[entry['dataset']],\n",
    "                    entry['accuracy'] / max_acc_Di[entry['dataset']]\n",
    "                )\n",
    "            \n",
    "            avg_score = np.asarray(max_56_Di).mean()\n",
    "            \n",
    "            results.append('mu %s | gamma %s | eta1 %s = %f' % (mu, gamma, eta1, avg_score))\n",
    "    \n",
    "for r in results:\n",
    "    print(r)"
   ]
  },
  {
   "cell_type": "code",
   "execution_count": null,
   "metadata": {},
   "outputs": [],
   "source": []
  },
  {
   "cell_type": "code",
   "execution_count": null,
   "metadata": {},
   "outputs": [],
   "source": []
  }
 ],
 "metadata": {
  "kernelspec": {
   "display_name": "Python 3",
   "language": "python",
   "name": "python3"
  },
  "language_info": {
   "codemirror_mode": {
    "name": "ipython",
    "version": 3
   },
   "file_extension": ".py",
   "mimetype": "text/x-python",
   "name": "python",
   "nbconvert_exporter": "python",
   "pygments_lexer": "ipython3",
   "version": "3.7.4"
  }
 },
 "nbformat": 4,
 "nbformat_minor": 2
}
